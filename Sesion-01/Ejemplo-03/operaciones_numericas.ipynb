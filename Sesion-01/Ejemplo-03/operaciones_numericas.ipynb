{
  "cells": [
    {
      "cell_type": "markdown",
      "metadata": {
        "id": "JjyYfT4-CtZo"
      },
      "source": [
        "## Ejemplo 3: Operaciones numéricas\n",
        "\n",
        "### 1. Objetivos:\n",
        "\n",
        "- Mostrar cómo usar los operadores aritméticos\n",
        "- Practicar asignación de variables y output de celdas\n",
        "\n",
        "---\n",
        "\n",
        "### 2. Desarrollo:"
      ]
    },
    {
      "cell_type": "markdown",
      "metadata": {
        "id": "LIavbJLgCtZu"
      },
      "source": [
        "Primero asignemos unas variables:"
      ]
    },
    {
      "cell_type": "code",
      "execution_count": null,
      "metadata": {
        "id": "8hecfGH4CtZv"
      },
      "outputs": [],
      "source": [
        "var_1 = 4\n",
        "var_2 = 54\n",
        "var_3 = 23\n",
        "var_4 = 89"
      ]
    },
    {
      "cell_type": "markdown",
      "metadata": {
        "id": "mZf5Qr8pCtZx"
      },
      "source": [
        "Para realizar operaciones numéricas con estas variables, basta con escribir la operación en una celda y correrla. Veremos el resultado como output debajo de la celda:"
      ]
    },
    {
      "cell_type": "code",
      "execution_count": null,
      "metadata": {
        "id": "l4PW7gVuCtZy",
        "outputId": "52d230a7-3b34-48eb-8e3d-ad52c0a3df7f"
      },
      "outputs": [
        {
          "data": {
            "text/plain": [
              "58"
            ]
          },
          "execution_count": 5,
          "metadata": {},
          "output_type": "execute_result"
        }
      ],
      "source": [
        "var_1 + var_2"
      ]
    },
    {
      "cell_type": "code",
      "execution_count": null,
      "metadata": {
        "id": "aMLnVKQjCtZ0",
        "outputId": "300eb477-b622-42bc-968b-884819750362"
      },
      "outputs": [
        {
          "data": {
            "text/plain": [
              "-35"
            ]
          },
          "execution_count": 6,
          "metadata": {},
          "output_type": "execute_result"
        }
      ],
      "source": [
        "var_2 - var_4"
      ]
    },
    {
      "cell_type": "code",
      "execution_count": null,
      "metadata": {
        "id": "dJq47NN1CtZ0",
        "outputId": "e6205dab-1fec-4a0e-ed88-bc011ec64b29"
      },
      "outputs": [
        {
          "data": {
            "text/plain": [
              "92"
            ]
          },
          "execution_count": 7,
          "metadata": {},
          "output_type": "execute_result"
        }
      ],
      "source": [
        "var_3 * var_1"
      ]
    },
    {
      "cell_type": "code",
      "execution_count": null,
      "metadata": {
        "id": "ifWvGWrWCtZ1",
        "outputId": "01e7d813-951f-4eba-e9ce-48e2cac11f40"
      },
      "outputs": [
        {
          "data": {
            "text/plain": [
              "1.6481481481481481"
            ]
          },
          "execution_count": 8,
          "metadata": {},
          "output_type": "execute_result"
        }
      ],
      "source": [
        "var_4 / var_2"
      ]
    },
    {
      "cell_type": "code",
      "execution_count": null,
      "metadata": {
        "id": "OhY3r0AqCtZ2",
        "outputId": "2cb94f7e-2df8-43d9-c158-c08f44fc5b29"
      },
      "outputs": [
        {
          "data": {
            "text/plain": [
              "8503056"
            ]
          },
          "execution_count": 9,
          "metadata": {},
          "output_type": "execute_result"
        }
      ],
      "source": [
        "var_2 ** var_1"
      ]
    },
    {
      "cell_type": "markdown",
      "metadata": {
        "id": "S0WRL2QzCtZ3"
      },
      "source": [
        "Si queremos imprimir más de una operación en la misma celda, podemos usar la función `print`:"
      ]
    },
    {
      "cell_type": "code",
      "execution_count": null,
      "metadata": {
        "id": "NflNoYOdCtZ3",
        "outputId": "3ddcb0eb-5806-4184-a52c-2ac33b9deae1"
      },
      "outputs": [
        {
          "name": "stdout",
          "output_type": "stream",
          "text": [
            "58\n",
            "-66\n",
            "2916\n"
          ]
        }
      ],
      "source": [
        "print(var_1 + var_2)\n",
        "print(var_3 - var_4)\n",
        "print(var_2 * var_2)"
      ]
    },
    {
      "cell_type": "markdown",
      "metadata": {
        "id": "SzQSR2ibCtZ4"
      },
      "source": [
        "También podemos asignar los resultados de nuestras operaciones a otras variables:"
      ]
    },
    {
      "cell_type": "code",
      "execution_count": null,
      "metadata": {
        "id": "TujRXag7CtZ5",
        "outputId": "fcd15b0a-ece8-43a5-afa3-3e70d8874734"
      },
      "outputs": [
        {
          "data": {
            "text/plain": [
              "27"
            ]
          },
          "execution_count": 11,
          "metadata": {},
          "output_type": "execute_result"
        }
      ],
      "source": [
        "resultado_suma = var_1 + var_3\n",
        "\n",
        "resultado_suma"
      ]
    },
    {
      "cell_type": "code",
      "execution_count": null,
      "metadata": {
        "id": "cegXFMd5CtZ6",
        "outputId": "ccfdf02a-e70f-4511-e344-f3477bc78e6f"
      },
      "outputs": [
        {
          "data": {
            "text/plain": [
              "35"
            ]
          },
          "execution_count": 13,
          "metadata": {},
          "output_type": "execute_result"
        }
      ],
      "source": [
        "resultado_resta = var_4 - var_2\n",
        "\n",
        "resultado_resta"
      ]
    },
    {
      "cell_type": "markdown",
      "metadata": {
        "id": "QvHrhMFHCtZ6"
      },
      "source": [
        "¡Hora de practicar!"
      ]
    },
    {
      "cell_type": "code",
      "execution_count": null,
      "metadata": {
        "id": "Ef9BGjaUCtZ7"
      },
      "outputs": [],
      "source": []
    }
  ],
  "metadata": {
    "kernelspec": {
      "display_name": "Python (data_science)",
      "language": "python",
      "name": "data_science"
    },
    "language_info": {
      "codemirror_mode": {
        "name": "ipython",
        "version": 3
      },
      "file_extension": ".py",
      "mimetype": "text/x-python",
      "name": "python",
      "nbconvert_exporter": "python",
      "pygments_lexer": "ipython3",
      "version": "3.8.5"
    },
    "colab": {
      "provenance": []
    }
  },
  "nbformat": 4,
  "nbformat_minor": 0
}